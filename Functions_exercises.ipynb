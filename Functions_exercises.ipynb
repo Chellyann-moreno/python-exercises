{
 "cells": [
  {
   "cell_type": "markdown",
   "id": "54bd2bc5",
   "metadata": {},
   "source": [
    "1. Define a function named is_two. It should accept one input and return True if the passed input is either the number or the string 2, False otherwise."
   ]
  },
  {
   "cell_type": "code",
   "execution_count": 336,
   "id": "2201b504",
   "metadata": {},
   "outputs": [],
   "source": [
    "def is_two(a):\n",
    "    if a== 2 or a=='2':\n",
    "        return True\n",
    "    else:\n",
    "        return False\n"
   ]
  },
  {
   "cell_type": "code",
   "execution_count": 337,
   "id": "3ecaaf39",
   "metadata": {},
   "outputs": [
    {
     "data": {
      "text/plain": [
       "False"
      ]
     },
     "execution_count": 337,
     "metadata": {},
     "output_type": "execute_result"
    }
   ],
   "source": [
    "is_two(4)"
   ]
  },
  {
   "cell_type": "markdown",
   "id": "20dfc112",
   "metadata": {},
   "source": [
    "Define a function named is_vowel. It should return True if the passed string is a vowel, False otherwise.\n",
    "\n"
   ]
  },
  {
   "cell_type": "code",
   "execution_count": 341,
   "id": "fe7fe817",
   "metadata": {},
   "outputs": [],
   "source": [
    "def is_vowel(char):\n",
    "    return char.lower() in 'aeiou'\n"
   ]
  },
  {
   "cell_type": "code",
   "execution_count": 347,
   "id": "d22e9e42",
   "metadata": {},
   "outputs": [
    {
     "data": {
      "text/plain": [
       "True"
      ]
     },
     "execution_count": 347,
     "metadata": {},
     "output_type": "execute_result"
    }
   ],
   "source": [
    "is_vowel('u')"
   ]
  },
  {
   "cell_type": "markdown",
   "id": "4b4875a6",
   "metadata": {},
   "source": [
    "Define a function named is_consonant. It should return True if the passed string is a consonant, False otherwise. Use your is_vowel function to accomplish this."
   ]
  },
  {
   "cell_type": "code",
   "execution_count": 377,
   "id": "5e251f69",
   "metadata": {},
   "outputs": [
    {
     "ename": "SyntaxError",
     "evalue": "invalid syntax (4063160298.py, line 2)",
     "output_type": "error",
     "traceback": [
      "\u001b[0;36m  File \u001b[0;32m\"/var/folders/wd/5_z1tvw94pv9x2ld8p_0dl2r0000gn/T/ipykernel_25877/4063160298.py\"\u001b[0;36m, line \u001b[0;32m2\u001b[0m\n\u001b[0;31m    if string.lower() not is_vowel(string):\u001b[0m\n\u001b[0m                          ^\u001b[0m\n\u001b[0;31mSyntaxError\u001b[0m\u001b[0;31m:\u001b[0m invalid syntax\n"
     ]
    }
   ],
   "source": [
    "def is_consonant(char):\n",
    "  return char.lower() not in 'aeiou'"
   ]
  },
  {
   "cell_type": "code",
   "execution_count": 133,
   "id": "920c6dee",
   "metadata": {},
   "outputs": [
    {
     "data": {
      "text/plain": [
       "True"
      ]
     },
     "execution_count": 133,
     "metadata": {},
     "output_type": "execute_result"
    }
   ],
   "source": [
    "is_consonant('b')"
   ]
  },
  {
   "cell_type": "code",
   "execution_count": 134,
   "id": "4081e11f",
   "metadata": {},
   "outputs": [],
   "source": [
    "consonant=is_consonant('b')"
   ]
  },
  {
   "cell_type": "code",
   "execution_count": 136,
   "id": "fa1cb560",
   "metadata": {},
   "outputs": [
    {
     "data": {
      "text/plain": [
       "True"
      ]
     },
     "execution_count": 136,
     "metadata": {},
     "output_type": "execute_result"
    }
   ],
   "source": [
    "consonant"
   ]
  },
  {
   "cell_type": "code",
   "execution_count": 306,
   "id": "996fd84a",
   "metadata": {},
   "outputs": [],
   "source": [
    "vowel=is_vowel('')"
   ]
  },
  {
   "cell_type": "code",
   "execution_count": 307,
   "id": "7101f23f",
   "metadata": {},
   "outputs": [
    {
     "data": {
      "text/plain": [
       "True"
      ]
     },
     "execution_count": 307,
     "metadata": {},
     "output_type": "execute_result"
    }
   ],
   "source": [
    "vowel"
   ]
  },
  {
   "cell_type": "markdown",
   "id": "0f5ea9dd",
   "metadata": {},
   "source": [
    "Define a function that accepts a string that is a word. The function should capitalize the first letter of the word if the word starts with a consonant."
   ]
  },
  {
   "cell_type": "code",
   "execution_count": 350,
   "id": "98b8a96c",
   "metadata": {},
   "outputs": [],
   "source": [
    "def is_word(string):\n",
    "    if is_consonant(string[0]):\n",
    "        string=string.capitalize()\n",
    "        return string"
   ]
  },
  {
   "cell_type": "code",
   "execution_count": 351,
   "id": "c1ac2224",
   "metadata": {},
   "outputs": [
    {
     "data": {
      "text/plain": [
       "'Hello'"
      ]
     },
     "execution_count": 351,
     "metadata": {},
     "output_type": "execute_result"
    }
   ],
   "source": [
    "is_word('hello')"
   ]
  },
  {
   "cell_type": "code",
   "execution_count": 380,
   "id": "b8658139",
   "metadata": {},
   "outputs": [],
   "source": [
    "def is_word(string):\n",
    "    if is_consonant(string[0]):\n",
    "        string = string.capitalize()\n",
    "    return string"
   ]
  },
  {
   "cell_type": "code",
   "execution_count": 381,
   "id": "add4928f",
   "metadata": {},
   "outputs": [
    {
     "data": {
      "text/plain": [
       "'Hola'"
      ]
     },
     "execution_count": 381,
     "metadata": {},
     "output_type": "execute_result"
    }
   ],
   "source": [
    "is_word('hola')"
   ]
  },
  {
   "cell_type": "markdown",
   "id": "ad52caf3",
   "metadata": {},
   "source": [
    "Define a function named calculate_tip. It should accept a tip percentage (a number between 0 and 1) and the bill total, and return the amount to tip."
   ]
  },
  {
   "cell_type": "code",
   "execution_count": 353,
   "id": "bb8dc34e",
   "metadata": {},
   "outputs": [],
   "source": [
    "def calculate_tip(bill,tip):\n",
    "    return bill*tip+bill"
   ]
  },
  {
   "cell_type": "code",
   "execution_count": 354,
   "id": "ff380cf3",
   "metadata": {},
   "outputs": [
    {
     "data": {
      "text/plain": [
       "26.45"
      ]
     },
     "execution_count": 354,
     "metadata": {},
     "output_type": "execute_result"
    }
   ],
   "source": [
    "calculate_tip(23,.15)"
   ]
  },
  {
   "cell_type": "markdown",
   "id": "59c50e00",
   "metadata": {},
   "source": [
    "Define a function named apply_discount. It should accept a original price, and a discount percentage, and return the price after the discount is applied."
   ]
  },
  {
   "cell_type": "code",
   "execution_count": 357,
   "id": "1b891c1e",
   "metadata": {},
   "outputs": [],
   "source": [
    "def apply_discount(discount,price):\n",
    "    return price -(discount * price)"
   ]
  },
  {
   "cell_type": "code",
   "execution_count": 359,
   "id": "dbe97536",
   "metadata": {},
   "outputs": [
    {
     "data": {
      "text/plain": [
       "117.5"
      ]
     },
     "execution_count": 359,
     "metadata": {},
     "output_type": "execute_result"
    }
   ],
   "source": [
    "apply_discount(.50,235)"
   ]
  },
  {
   "cell_type": "markdown",
   "id": "2f453c65",
   "metadata": {},
   "source": [
    "Define a function named handle_commas. It should accept a string that is a number that contains commas in it as input, and return a number as output."
   ]
  },
  {
   "cell_type": "code",
   "execution_count": 179,
   "id": "e08eeab2",
   "metadata": {},
   "outputs": [],
   "source": [
    "def handle_commas(input_string): \n",
    "    return int(input_string.replace(',',''))"
   ]
  },
  {
   "cell_type": "code",
   "execution_count": 360,
   "id": "3780f496",
   "metadata": {},
   "outputs": [
    {
     "data": {
      "text/plain": [
       "230007"
      ]
     },
     "execution_count": 360,
     "metadata": {},
     "output_type": "execute_result"
    }
   ],
   "source": [
    "handle_commas('2,3000,7') \n"
   ]
  },
  {
   "cell_type": "code",
   "execution_count": null,
   "id": "0a2a1749",
   "metadata": {},
   "outputs": [],
   "source": []
  },
  {
   "cell_type": "markdown",
   "id": "67def873",
   "metadata": {},
   "source": [
    "Define a function named get_letter_grade. It should accept a number and return the letter grade associated with that number (A-F)."
   ]
  },
  {
   "cell_type": "code",
   "execution_count": 382,
   "id": "9b9e967d",
   "metadata": {},
   "outputs": [],
   "source": [
    "grade=88"
   ]
  },
  {
   "cell_type": "code",
   "execution_count": 387,
   "id": "d9b8df85",
   "metadata": {},
   "outputs": [],
   "source": [
    "def get_letter_grade(grade):\n",
    "    if grade >=90:\n",
    "        letter_grade='A'\n",
    "    elif grade >=80:\n",
    "        letter_grade= 'B'\n",
    "    elif grade >=70:\n",
    "        letter_grade= 'C'\n",
    "    elif grade >=60:\n",
    "        letter_grade= \"D\"\n",
    "    else:\n",
    "        letter_grade ='F'\n",
    "    return letter_grade"
   ]
  },
  {
   "cell_type": "code",
   "execution_count": 388,
   "id": "512c252c",
   "metadata": {},
   "outputs": [
    {
     "data": {
      "text/plain": [
       "'F'"
      ]
     },
     "execution_count": 388,
     "metadata": {},
     "output_type": "execute_result"
    }
   ],
   "source": [
    "get_letter_grade(33)"
   ]
  },
  {
   "cell_type": "code",
   "execution_count": 240,
   "id": "fd0c455f",
   "metadata": {},
   "outputs": [
    {
     "ename": "SyntaxError",
     "evalue": "invalid syntax (3036228161.py, line 1)",
     "output_type": "error",
     "traceback": [
      "\u001b[0;36m  File \u001b[0;32m\"/var/folders/wd/5_z1tvw94pv9x2ld8p_0dl2r0000gn/T/ipykernel_25877/3036228161.py\"\u001b[0;36m, line \u001b[0;32m1\u001b[0m\n\u001b[0;31m    def get_letter_grade(grade=int(input(\"enter grade number \")):\u001b[0m\n\u001b[0m                                                                ^\u001b[0m\n\u001b[0;31mSyntaxError\u001b[0m\u001b[0;31m:\u001b[0m invalid syntax\n"
     ]
    }
   ],
   "source": [
    "\n",
    "def get_letter_grade(grade):\n",
    "    grade >=90\n",
    "    grade >=80\n",
    "    grade >=70\n",
    "    grade >=60\n",
    "    grade >=0\n",
    "    return grade"
   ]
  },
  {
   "cell_type": "code",
   "execution_count": null,
   "id": "7dcd55d7",
   "metadata": {},
   "outputs": [],
   "source": [
    "get_letter_grade(20)"
   ]
  },
  {
   "cell_type": "markdown",
   "id": "ef69a389",
   "metadata": {},
   "source": [
    "Define a function named remove_vowels that accepts a string and returns a string with all the vowels removed."
   ]
  },
  {
   "cell_type": "code",
   "execution_count": 389,
   "id": "180842c3",
   "metadata": {},
   "outputs": [],
   "source": [
    "string = \"Hello\""
   ]
  },
  {
   "cell_type": "code",
   "execution_count": 392,
   "id": "d61226c8",
   "metadata": {},
   "outputs": [
    {
     "name": "stdout",
     "output_type": "stream",
     "text": [
      "H False\n",
      "e True\n",
      "l False\n",
      "l False\n",
      "o True\n"
     ]
    }
   ],
   "source": [
    "new_string=''\n",
    "\n",
    "for char in string:\n",
    "    print(char,is_vowel(char))\n",
    "    if not is_vowel(char):\n",
    "        new_string +=char"
   ]
  },
  {
   "cell_type": "code",
   "execution_count": 395,
   "id": "ec5ae5de",
   "metadata": {},
   "outputs": [],
   "source": [
    "def remove_vowels(string):\n",
    "    new_string=''\n",
    "\n",
    "    for char in string:\n",
    "        if not is_vowel(char):\n",
    "            new_string +=char\n",
    "    return new_string\n",
    "    "
   ]
  },
  {
   "cell_type": "code",
   "execution_count": 396,
   "id": "d3d14a2a",
   "metadata": {},
   "outputs": [
    {
     "data": {
      "text/plain": [
       "'Chllynn Mrn'"
      ]
     },
     "execution_count": 396,
     "metadata": {},
     "output_type": "execute_result"
    }
   ],
   "source": [
    "remove_vowels('Chellyann Moreno')"
   ]
  },
  {
   "cell_type": "markdown",
   "id": "81559066",
   "metadata": {},
   "source": [
    "Define a function named normalize_name. It should accept a string and return a valid python identifier, that is:\n",
    "anything that is not a valid python identifier should be removed\n",
    "leading and trailing whitespace should be removed\n",
    "everything should be lowercase\n",
    "spaces should be replaced with underscores\n",
    "for example:\n",
    "Name will become name\n",
    "First Name will become first_name\n",
    "% Completed will become completed"
   ]
  },
  {
   "cell_type": "code",
   "execution_count": 408,
   "id": "d6ca7be4",
   "metadata": {},
   "outputs": [],
   "source": [
    "string= '  $ Chelly 36   '"
   ]
  },
  {
   "cell_type": "code",
   "execution_count": 409,
   "id": "3f7f85be",
   "metadata": {
    "scrolled": true
   },
   "outputs": [
    {
     "data": {
      "text/plain": [
       "'$ Chelly 36'"
      ]
     },
     "execution_count": 409,
     "metadata": {},
     "output_type": "execute_result"
    }
   ],
   "source": [
    "string.strip()"
   ]
  },
  {
   "cell_type": "code",
   "execution_count": 410,
   "id": "7de1dc0d",
   "metadata": {},
   "outputs": [
    {
     "data": {
      "text/plain": [
       "'$ chelly 36'"
      ]
     },
     "execution_count": 410,
     "metadata": {},
     "output_type": "execute_result"
    }
   ],
   "source": [
    "string.strip().lower()"
   ]
  },
  {
   "cell_type": "code",
   "execution_count": 411,
   "id": "bd6551e6",
   "metadata": {
    "scrolled": true
   },
   "outputs": [
    {
     "data": {
      "text/plain": [
       "'$_chelly_36'"
      ]
     },
     "execution_count": 411,
     "metadata": {},
     "output_type": "execute_result"
    }
   ],
   "source": [
    "string.strip().lower().replace(\" \",'_')"
   ]
  },
  {
   "cell_type": "code",
   "execution_count": 419,
   "id": "8849a290",
   "metadata": {},
   "outputs": [
    {
     "name": "stdout",
     "output_type": "stream",
     "text": [
      " \n",
      " \n",
      "$\n",
      " \n",
      "C\n",
      "this is valid\n"
     ]
    },
    {
     "ename": "NameError",
     "evalue": "name 'Char' is not defined",
     "output_type": "error",
     "traceback": [
      "\u001b[0;31m---------------------------------------------------------------------------\u001b[0m",
      "\u001b[0;31mNameError\u001b[0m                                 Traceback (most recent call last)",
      "\u001b[0;32m/var/folders/wd/5_z1tvw94pv9x2ld8p_0dl2r0000gn/T/ipykernel_25877/4173809703.py\u001b[0m in \u001b[0;36m<module>\u001b[0;34m\u001b[0m\n\u001b[1;32m      5\u001b[0m     \u001b[0;32mif\u001b[0m \u001b[0mchar\u001b[0m\u001b[0;34m.\u001b[0m\u001b[0misalpha\u001b[0m\u001b[0;34m(\u001b[0m\u001b[0;34m)\u001b[0m \u001b[0;32mor\u001b[0m \u001b[0mchar\u001b[0m\u001b[0;34m.\u001b[0m\u001b[0misdigit\u001b[0m\u001b[0;34m(\u001b[0m\u001b[0;34m)\u001b[0m \u001b[0;32mor\u001b[0m \u001b[0mchar\u001b[0m\u001b[0;34m==\u001b[0m\u001b[0;34m'_'\u001b[0m\u001b[0;34m:\u001b[0m\u001b[0;34m\u001b[0m\u001b[0;34m\u001b[0m\u001b[0m\n\u001b[1;32m      6\u001b[0m         \u001b[0mprint\u001b[0m\u001b[0;34m(\u001b[0m\u001b[0;34m'this is valid'\u001b[0m\u001b[0;34m)\u001b[0m\u001b[0;34m\u001b[0m\u001b[0;34m\u001b[0m\u001b[0m\n\u001b[0;32m----> 7\u001b[0;31m         \u001b[0mnew_string\u001b[0m \u001b[0;34m+=\u001b[0m\u001b[0mChar\u001b[0m\u001b[0;34m\u001b[0m\u001b[0;34m\u001b[0m\u001b[0m\n\u001b[0m",
      "\u001b[0;31mNameError\u001b[0m: name 'Char' is not defined"
     ]
    }
   ],
   "source": [
    "new_string=''\n",
    "\n",
    "for char in string:\n",
    "    print(char)\n",
    "    if char.isalpha() or char.isdigit() or char=='_':\n",
    "        print('this is valid')\n",
    "        new_string +=Char"
   ]
  },
  {
   "cell_type": "code",
   "execution_count": 422,
   "id": "0b5a09f7",
   "metadata": {},
   "outputs": [],
   "source": [
    "def correct_name(string):\n",
    "    string = string.strip().lower().replace(' ','_')\n",
    "    \n",
    "    new_string = ''\n",
    "\n",
    "    for char in string:\n",
    "        if char.isalpha() or char.isdigit() or char == '_':\n",
    "\n",
    "            new_string += char\n",
    "\n",
    "    new_string = new_string.strip('_')\n",
    "    \n",
    "    return new_string"
   ]
  },
  {
   "cell_type": "code",
   "execution_count": 423,
   "id": "2893950a",
   "metadata": {},
   "outputs": [
    {
     "data": {
      "text/plain": [
       "'chelly_36'"
      ]
     },
     "execution_count": 423,
     "metadata": {},
     "output_type": "execute_result"
    }
   ],
   "source": [
    "correct_name('$ Chelly 36')"
   ]
  },
  {
   "cell_type": "markdown",
   "id": "b528744a",
   "metadata": {},
   "source": [
    "Write a function named cumulative_sum that accepts a list of numbers and returns a list that is the cumulative sum of the numbers in the list.\n",
    "cumulative_sum([1, 1, 1]) returns [1, 2, 3]\n",
    "cumulative_sum([1, 2, 3, 4]) returns [1, 3, 6, 10]"
   ]
  },
  {
   "cell_type": "code",
   "execution_count": 430,
   "id": "b6ab11e6",
   "metadata": {},
   "outputs": [],
   "source": [
    "ls=[1,1,1]"
   ]
  },
  {
   "cell_type": "code",
   "execution_count": 434,
   "id": "24a3d931",
   "metadata": {},
   "outputs": [],
   "source": [
    "total =0\n",
    "some_sums=[]"
   ]
  },
  {
   "cell_type": "code",
   "execution_count": 436,
   "id": "a8daa89a",
   "metadata": {},
   "outputs": [
    {
     "name": "stdout",
     "output_type": "stream",
     "text": [
      "1\n",
      "4\n",
      "1\n",
      "5\n",
      "1\n",
      "6\n"
     ]
    }
   ],
   "source": [
    "for numb in ls:\n",
    "    print(numb)\n",
    "    total+=numb\n",
    "    print(total)\n",
    "    some_sums.append(total)\n",
    "    \n",
    "    some_sums"
   ]
  },
  {
   "cell_type": "code",
   "execution_count": 437,
   "id": "49e129e9",
   "metadata": {},
   "outputs": [],
   "source": [
    "def cumulative_sum(ls):\n",
    "    total = 0 \n",
    "    some_sums = []\n",
    "\n",
    "    for numb in ls:\n",
    "    #     print(numb)\n",
    "        total += numb\n",
    "#         print(total)\n",
    "        some_sums.append(total)\n",
    "\n",
    "    return some_sums"
   ]
  },
  {
   "cell_type": "code",
   "execution_count": 440,
   "id": "b8609956",
   "metadata": {},
   "outputs": [
    {
     "data": {
      "text/plain": [
       "[1, 3, 6, 10]"
      ]
     },
     "execution_count": 440,
     "metadata": {},
     "output_type": "execute_result"
    }
   ],
   "source": [
    "cumulative_sum([1,2,3,4])"
   ]
  }
 ],
 "metadata": {
  "kernelspec": {
   "display_name": "Python 3 (ipykernel)",
   "language": "python",
   "name": "python3"
  },
  "language_info": {
   "codemirror_mode": {
    "name": "ipython",
    "version": 3
   },
   "file_extension": ".py",
   "mimetype": "text/x-python",
   "name": "python",
   "nbconvert_exporter": "python",
   "pygments_lexer": "ipython3",
   "version": "3.9.13"
  }
 },
 "nbformat": 4,
 "nbformat_minor": 5
}

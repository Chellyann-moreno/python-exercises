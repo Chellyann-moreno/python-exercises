{
 "cells": [
  {
   "cell_type": "code",
   "execution_count": null,
   "id": "1827a1c2",
   "metadata": {},
   "outputs": [],
   "source": [
    "Print ('Chellyann','Maeriah')\n",
    "print ('3 keyboard','shortcuts','for','jupyter')\n",
    "# 1. Down select cell below.\n",
    "# 2. Shift + Up extend selected cells above.\n",
    "# 3. Shift + Down extend selected cells below.\n",
    "# 4. A insert cell above.\n",
    "\n"
   ]
  }
 ],
 "metadata": {
  "kernelspec": {
   "display_name": "Python 3 (ipykernel)",
   "language": "python",
   "name": "python3"
  },
  "language_info": {
   "codemirror_mode": {
    "name": "ipython",
    "version": 3
   },
   "file_extension": ".py",
   "mimetype": "text/x-python",
   "name": "python",
   "nbconvert_exporter": "python",
   "pygments_lexer": "ipython3",
   "version": "3.9.13"
  }
 },
 "nbformat": 4,
 "nbformat_minor": 5
}
